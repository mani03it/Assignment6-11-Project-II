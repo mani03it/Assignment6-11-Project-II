{
 "cells": [
  {
   "cell_type": "markdown",
   "metadata": {},
   "source": [
    "**Problem Statement:**\n",
    "\n",
    "It happens all the time: someone gives you data containing malformed strings, Python lists and missing data. How do you tidy up so you get on with the analysis?\n",
    "\n",
    "Take this monstrosity as the DataFrame to use in the following puzzles:\n",
    "\n",
    "\tdf = pd.DataFrame({'From_To':['LoNDon_paris, 'MAdrid_miLAN', 'londON_StockhOlm',\n",
    "    \n",
    "\t\t'Budapest_PaRis', 'Brussels_londON'],\n",
    "\n",
    "\t\t'FlightNumber': [10045, np.nan,10065, np.nan, 10085],\n",
    "\n",
    "\t\t'RecentDelays': [[23,47],[],[24,43,87],[13],[67,32]],\n",
    "\n",
    "\t\t'Airline': ['KLM(!)','<Air France> (12)', '(British Airways.)',\n",
    "\n",
    "\t\t\t'12. Air France', \"Swiss Air\"]})\n",
    "\t"
   ]
  },
  {
   "cell_type": "code",
   "execution_count": 67,
   "metadata": {},
   "outputs": [
    {
     "name": "stdout",
     "output_type": "stream",
     "text": [
      "            From_To  FlightNumber  RecentDelays             Airline\n",
      "0      LoNDon_paris       10045.0      [23, 47]              KLM(!)\n",
      "1      MAdrid_miLAN           NaN            []   <Air France> (12)\n",
      "2  londON_StockhOlm       10065.0  [24, 43, 87]  (British Airways.)\n",
      "3    Budapest_PaRis           NaN          [13]      12. Air France\n",
      "4   Brussels_londON       10085.0      [67, 32]           Swiss Air\n"
     ]
    }
   ],
   "source": [
    "import pandas as pd\n",
    "import numpy as np\n",
    "df = pd.DataFrame({\n",
    "                    'From_To':['LoNDon_paris', 'MAdrid_miLAN', 'londON_StockhOlm','Budapest_PaRis', 'Brussels_londON'],\n",
    "                    'FlightNumber': [10045, np.nan,10065, np.nan, 10085],'RecentDelays': [[23,47],[],[24,43,87],[13],[67,32]],\n",
    "                    'Airline': ['KLM(!)','<Air France> (12)', '(British Airways.)','12. Air France', \"Swiss Air\"]\n",
    "                  })\n",
    "print(df)"
   ]
  },
  {
   "cell_type": "markdown",
   "metadata": {},
   "source": [
    "    1. Some values in the FlightNumber column are missing. These numbers are meant to increase by 10 with each row so    10055 and 10075 need to be put in place. Fill in these numbers and make the column an integer column (instead of a   float column)."
   ]
  },
  {
   "cell_type": "code",
   "execution_count": 69,
   "metadata": {},
   "outputs": [
    {
     "name": "stdout",
     "output_type": "stream",
     "text": [
      "            From_To  FlightNumber  RecentDelays             Airline\n",
      "0      LoNDon_paris       10045.0      [23, 47]              KLM(!)\n",
      "1      MAdrid_miLAN       10055.0            []   <Air France> (12)\n",
      "2  londON_StockhOlm       10065.0  [24, 43, 87]  (British Airways.)\n",
      "3    Budapest_PaRis       10075.0          [13]      12. Air France\n",
      "4   Brussels_londON       10085.0      [67, 32]           Swiss Air\n"
     ]
    }
   ],
   "source": [
    "flightnumber=10\n",
    "df1 = df\n",
    "for item, frame in df['FlightNumber'].iteritems():\n",
    "    if pd.isnull(frame):\n",
    "        a = flightnumber + 10\n",
    "        df1['FlightNumber'][item] = a\n",
    "    else: \n",
    "        flightnumber = frame\n",
    "        \n",
    "\n",
    "print(df1)"
   ]
  },
  {
   "cell_type": "markdown",
   "metadata": {},
   "source": [
    "\t2. The From_To column would be better as two separate columns! Split each string on the underscore delimiter _ to    give a new temporary DataFrame with the correct values. Assign the correct column names to this temporary DataFrame."
   ]
  },
  {
   "cell_type": "code",
   "execution_count": 70,
   "metadata": {},
   "outputs": [
    {
     "name": "stdout",
     "output_type": "stream",
     "text": [
      "       From         To\n",
      "0    LoNDon      paris\n",
      "1    MAdrid      miLAN\n",
      "2    londON  StockhOlm\n",
      "3  Budapest      PaRis\n",
      "4  Brussels     londON\n"
     ]
    }
   ],
   "source": [
    "df2 = df['From_To'].str.split('_', 1, expand=True).rename(columns={0:'From', 1:'To'})\n",
    "print(df2)"
   ]
  },
  {
   "cell_type": "markdown",
   "metadata": {},
   "source": [
    "\t3. Notice how the capitalisation of the city names is all mixed up in this temporary DataFrame. Standardise the      strings so that only the first letter is uppercase (e.g. \"londON\" should become \"London\".)"
   ]
  },
  {
   "cell_type": "code",
   "execution_count": 71,
   "metadata": {},
   "outputs": [
    {
     "name": "stdout",
     "output_type": "stream",
     "text": [
      "       From         To\n",
      "0    London      Paris\n",
      "1    Madrid      Milan\n",
      "2    London  Stockholm\n",
      "3  Budapest      Paris\n",
      "4  Brussels     London\n"
     ]
    }
   ],
   "source": [
    "df4 = df2\n",
    "for index, row in df2.iterrows():\n",
    "    df4['From'][index] = row['From'].title()\n",
    "    df4['To'][index] = row['To'].title()\n",
    "\n",
    "print(df4)\n"
   ]
  },
  {
   "cell_type": "markdown",
   "metadata": {},
   "source": [
    "\t4. Delete the From_To column from df and attach the temporary DataFrame from the previous questions."
   ]
  },
  {
   "cell_type": "code",
   "execution_count": 72,
   "metadata": {},
   "outputs": [
    {
     "name": "stdout",
     "output_type": "stream",
     "text": [
      "       From         To  FlightNumber  RecentDelays             Airline\n",
      "0    London      Paris       10045.0      [23, 47]              KLM(!)\n",
      "1    Madrid      Milan       10055.0            []   <Air France> (12)\n",
      "2    London  Stockholm       10065.0  [24, 43, 87]  (British Airways.)\n",
      "3  Budapest      Paris       10075.0          [13]      12. Air France\n",
      "4  Brussels     London       10085.0      [67, 32]           Swiss Air\n"
     ]
    }
   ],
   "source": [
    "df3 = df.loc[:, ~df.columns.str.contains('From_To')]\n",
    "df3 = df4.join(df3)\n",
    "print(df3)"
   ]
  },
  {
   "cell_type": "markdown",
   "metadata": {},
   "source": [
    "\t5. In the RecentDelays column, the values have been entered into the DataFrame as a list. We would like each first   value in its own column, each second value in its own column, and so on. If there isn't an Nth value, the value      should be NaN.\n",
    "\n",
    "\tExpand the series of lists into a DataFrame named delays, rename the columns delay_1, delay_2, etc. and replace the  unwanted RecentDelays column in df with delays."
   ]
  },
  {
   "cell_type": "code",
   "execution_count": 142,
   "metadata": {},
   "outputs": [
    {
     "name": "stdout",
     "output_type": "stream",
     "text": [
      "       From         To  FlightNumber  RecentDelays             Airline\n",
      "0    London      Paris       10045.0      [23, 47]              KLM(!)\n",
      "1    Madrid      Milan       10055.0            []   <Air France> (12)\n",
      "2    London  Stockholm       10065.0  [24, 43, 87]  (British Airways.)\n",
      "3  Budapest      Paris       10075.0          [13]      12. Air France\n",
      "4  Brussels     London       10085.0      [67, 32]           Swiss Air \n",
      "\n",
      "After dividing RecentDelays column into delay_1, delay_2 ...\n",
      "------------------------------------------------------------\n",
      "  delay_1 delay_2 delay_3\n",
      "0      23      47     NaN\n",
      "1     NaN     NaN     NaN\n",
      "2      24      43      87\n",
      "3      13     NaN     NaN\n",
      "4      67      32     NaN\n"
     ]
    }
   ],
   "source": [
    "print(df3,'\\n')\n",
    "\n",
    "total_rows=len(df.axes[0])\n",
    "\n",
    "\n",
    "tempsize = 0\n",
    "for item, frame in df['RecentDelays'].iteritems():\n",
    "    if tempsize < len(frame): \n",
    "        tempsize = len(frame)      \n",
    "\n",
    "index = range(total_rows)\n",
    "df6 =  pd.DataFrame(index = index, columns = [\"delay_{}\".format(i + 1) for i in range(3) ])\n",
    "\n",
    "n=0\n",
    "for item, frame in df['RecentDelays'].iteritems():\n",
    "    for j in range(tempsize):\n",
    "        n = j +1\n",
    "        if (len(frame) != 0 and j < len(frame)) :\n",
    "            df6[\"delay_\"+str(n)][item] = frame[j]\n",
    "        else :\n",
    "            df6[\"delay_\"+str(n)][item] = np.nan\n",
    "        \n",
    "print(\"After dividing RecentDelays column into delay_1, delay_2 ...\")\n",
    "print('-'*60)\n",
    "print(df6)     "
   ]
  }
 ],
 "metadata": {
  "kernelspec": {
   "display_name": "Python 3",
   "language": "python",
   "name": "python3"
  },
  "language_info": {
   "codemirror_mode": {
    "name": "ipython",
    "version": 3
   },
   "file_extension": ".py",
   "mimetype": "text/x-python",
   "name": "python",
   "nbconvert_exporter": "python",
   "pygments_lexer": "ipython3",
   "version": "3.7.1"
  }
 },
 "nbformat": 4,
 "nbformat_minor": 2
}
