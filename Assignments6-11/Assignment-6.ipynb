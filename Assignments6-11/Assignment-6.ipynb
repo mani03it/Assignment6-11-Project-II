{
 "cells": [
  {
   "cell_type": "markdown",
   "metadata": {},
   "source": [
    "**Problem Statement 1:**\n",
    "Write a function so that the columns of the output matrix are powers of the input vector. \n",
    "\n",
    "The order of the powers is determined by the increasing boolean argument. Specifically, when increasing is False, the i-th output column is the input vector raised element-wise to the power of N-i-1.\n",
    "\n",
    "**Hint:** Such a matrix with a geometric progression in each row is named for Alexandre-Theophile Vandermonde."
   ]
  },
  {
   "cell_type": "code",
   "execution_count": 8,
   "metadata": {},
   "outputs": [
    {
     "data": {
      "text/plain": [
       "array([[ 1,  1,  1],\n",
       "       [ 4,  2,  1],\n",
       "       [ 9,  3,  1],\n",
       "       [16,  4,  1]], dtype=int32)"
      ]
     },
     "execution_count": 8,
     "metadata": {},
     "output_type": "execute_result"
    }
   ],
   "source": [
    "import numpy as np\n",
    "x = np.array([1, 2, 3, 4])\n",
    "N=3\n",
    "##using column_stack, the i-th output column is the input vector raised element-wise to the power of N-i-1\n",
    "np.column_stack([x**(N-1-i) for i in range(N)])"
   ]
  },
  {
   "cell_type": "code",
   "execution_count": 11,
   "metadata": {},
   "outputs": [
    {
     "data": {
      "text/plain": [
       "array([[ 1,  1,  1,  1],\n",
       "       [ 8,  4,  2,  1],\n",
       "       [27,  9,  3,  1],\n",
       "       [64, 16,  4,  1]])"
      ]
     },
     "execution_count": 11,
     "metadata": {},
     "output_type": "execute_result"
    }
   ],
   "source": [
    "## using vander function. By default, increasing=False\n",
    "N = 4\n",
    "np.vander(x, N)"
   ]
  },
  {
   "cell_type": "code",
   "execution_count": 13,
   "metadata": {},
   "outputs": [
    {
     "data": {
      "text/plain": [
       "array([[ 1,  1,  1,  1],\n",
       "       [ 1,  2,  4,  8],\n",
       "       [ 1,  3,  9, 27],\n",
       "       [ 1,  4, 16, 64]])"
      ]
     },
     "execution_count": 13,
     "metadata": {},
     "output_type": "execute_result"
    }
   ],
   "source": [
    "#while increasing=True\n",
    "np.vander(x, increasing=True)"
   ]
  },
  {
   "cell_type": "markdown",
   "metadata": {},
   "source": [
    "**Problem Statement 2:**\n",
    "\n",
    "Given a sequence of n values x1,x2, ...., xn and a window size k>0, the k-th moving average of the given sequence is defined as follows:\n",
    "\n",
    "The moving average sequence has n-k+1 elements as shown below.\n",
    "\n",
    "The moving averages with k=4 of a ten-value sequence (n=10) is shown below\n",
    "\n",
    "\ti   1\t2\t3\t4\t5\t6\t7\t8\t9\t10\n",
    "===== ==  ==    ==\t==\t==\t==\t==\t==\t==\t==\n",
    "\n",
    "Input\t   10\t20\t30\t40\t50\t60\t70\t80\t90\t100\n",
    "\n",
    "y1\t   25=(10+20+30+40)/4\t\n",
    "\n",
    "y2\t   35=(20+30+40+50)/4\n",
    "\n",
    "y3\t   45=(30+40+50+60)/4\n",
    "\n",
    "y4\t   55=(40+50+60+70)/4\n",
    "\n",
    "y5\t   65=(50+60+70+80)/4\n",
    "\n",
    "y6\t   75=(60+70+80+90)/4\n",
    "\n",
    "y7\t   85=(70+80+90+100)/4\n",
    "\n",
    "\n",
    "Thus the moving average sequence has n-k+1=10-4+1 = 7 values.\n",
    "\n",
    "\n",
    "**Question:** Write a function to find moving average in an array over a window: \n",
    "\n",
    "Test it over [3,5,7,2,8,10,11,65,72,81,99,100,150] and window of 3.\n"
   ]
  },
  {
   "cell_type": "code",
   "execution_count": 22,
   "metadata": {},
   "outputs": [
    {
     "data": {
      "text/plain": [
       "array([  5.        ,   4.66666667,   5.66666667,   6.66666667,\n",
       "         9.66666667,  28.66666667,  49.33333333,  72.66666667,\n",
       "        84.        ,  93.33333333, 116.33333333])"
      ]
     },
     "execution_count": 22,
     "metadata": {},
     "output_type": "execute_result"
    }
   ],
   "source": [
    "def findMovingAverage(a, n) :\n",
    "    result = np.cumsum(a, dtype=float)\n",
    "    result[n:] = result[n:] - result[:-n]\n",
    "    return result[n - 1:] / n\n",
    "\n",
    "a = np.array([3,5,7,2,8,10,11,65,72,81,99,100,150])\n",
    "window = 3\n",
    "findMovingAverage(a, window)"
   ]
  }
 ],
 "metadata": {
  "kernelspec": {
   "display_name": "Python 3",
   "language": "python",
   "name": "python3"
  },
  "language_info": {
   "codemirror_mode": {
    "name": "ipython",
    "version": 3
   },
   "file_extension": ".py",
   "mimetype": "text/x-python",
   "name": "python",
   "nbconvert_exporter": "python",
   "pygments_lexer": "ipython3",
   "version": "3.7.1"
  }
 },
 "nbformat": 4,
 "nbformat_minor": 2
}
