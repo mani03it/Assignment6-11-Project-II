{
 "cells": [
  {
   "cell_type": "markdown",
   "metadata": {},
   "source": [
    "**Problem Statement 1:**\n",
    "\n",
    "1) How-to-count-distance-to-the-previous-zero\n",
    "\n",
    "For each value, count the difference of the distance from the previous zero (or the start of the Series, whichever is closer) and if there are no previous zeros, print the position\n",
    "\n",
    "Consider a DataFrame df where there is an integer column {'X'[7,2,0,3,4,2,5,0,3,4]}\n",
    "\n",
    "**The values should therefore be [1,2,0,1,2,3,4,0,1,2]. Make this a new column 'Y'.**\n",
    "\n",
    "    import pandas as pd\n",
    "\n",
    "    df = pd.DataFrame({'X':[7,2,0,3,4,2,5,0,3,4]})"
   ]
  },
  {
   "cell_type": "code",
   "execution_count": 9,
   "metadata": {},
   "outputs": [
    {
     "name": "stdout",
     "output_type": "stream",
     "text": [
      "   X    Y\n",
      "0  7  1.0\n",
      "1  2  2.0\n",
      "2  0  0.0\n",
      "3  3  1.0\n",
      "4  4  2.0\n",
      "5  2  3.0\n",
      "6  5  4.0\n",
      "7  0  0.0\n",
      "8  3  1.0\n",
      "9  4  2.0\n"
     ]
    }
   ],
   "source": [
    "import pandas as pd\n",
    "df = pd.DataFrame({'X':[7,2,0,3,4,2,5,0,3,4]})\n",
    "\n",
    "x = (df['X'] != 0).cumsum()\n",
    "y = x != x.shift()\n",
    "df['Y'] = y.groupby((y != y.shift()).cumsum()).cumsum()\n",
    "print(df)"
   ]
  },
  {
   "cell_type": "markdown",
   "metadata": {},
   "source": [
    "2) Create a DatetimeIndex that contains each business day of 2015 and use it to index a Series of random numbers."
   ]
  },
  {
   "cell_type": "code",
   "execution_count": 26,
   "metadata": {},
   "outputs": [
    {
     "name": "stdout",
     "output_type": "stream",
     "text": [
      "2015-01-01    67\n",
      "2015-01-02    75\n",
      "2015-01-05     7\n",
      "2015-01-06    96\n",
      "2015-01-07    11\n",
      "2015-01-08     8\n",
      "2015-01-09    25\n",
      "2015-01-12    92\n",
      "2015-01-13    15\n",
      "2015-01-14    16\n",
      "2015-01-15    57\n",
      "2015-01-16    68\n",
      "2015-01-19    93\n",
      "2015-01-20    72\n",
      "2015-01-21    35\n",
      "2015-01-22    44\n",
      "2015-01-23     6\n",
      "2015-01-26    92\n",
      "2015-01-27    16\n",
      "2015-01-28    26\n",
      "2015-01-29     7\n",
      "2015-01-30    23\n",
      "2015-02-02    52\n",
      "2015-02-03     5\n",
      "2015-02-04    59\n",
      "2015-02-05    78\n",
      "2015-02-06     9\n",
      "2015-02-09    16\n",
      "2015-02-10    52\n",
      "2015-02-11    46\n",
      "              ..\n",
      "2015-11-20    39\n",
      "2015-11-23    85\n",
      "2015-11-24    99\n",
      "2015-11-25    93\n",
      "2015-11-26    97\n",
      "2015-11-27    95\n",
      "2015-11-30     2\n",
      "2015-12-01    92\n",
      "2015-12-02    62\n",
      "2015-12-03    96\n",
      "2015-12-04    30\n",
      "2015-12-07    35\n",
      "2015-12-08    20\n",
      "2015-12-09    23\n",
      "2015-12-10     5\n",
      "2015-12-11    64\n",
      "2015-12-14    15\n",
      "2015-12-15    52\n",
      "2015-12-16    60\n",
      "2015-12-17    42\n",
      "2015-12-18    13\n",
      "2015-12-21    85\n",
      "2015-12-22    23\n",
      "2015-12-23    12\n",
      "2015-12-24    10\n",
      "2015-12-25    40\n",
      "2015-12-28    23\n",
      "2015-12-29    84\n",
      "2015-12-30    87\n",
      "2015-12-31     9\n",
      "Freq: B, Length: 261, dtype: int32\n"
     ]
    }
   ],
   "source": [
    "import datetime as dt\n",
    "import pandas as pd\n",
    "import numpy as np\n",
    "from pandas.tseries.offsets import *\n",
    "\n",
    "Bday_index = pd.date_range('2015-01-01', '2015-12-31', freq=BDay())\n",
    "series_date_index = pd.Series(np.random.randint(low=1, high=100, size=261),index = Bday_index)\n",
    "print(series_date_index)"
   ]
  },
  {
   "cell_type": "markdown",
   "metadata": {},
   "source": [
    "3) Find the sum of the values in s for every Wednesday"
   ]
  },
  {
   "cell_type": "code",
   "execution_count": 27,
   "metadata": {},
   "outputs": [
    {
     "name": "stdout",
     "output_type": "stream",
     "text": [
      "s = 2854\n"
     ]
    }
   ],
   "source": [
    "from datetime import date\n",
    "import calendar\n",
    "\n",
    "s = 0\n",
    "for idx , val in enumerate(series_date_index):\n",
    "    if (series_date_index.index[idx].strftime(\"%A\") == \"Wednesday\"):\n",
    "        s = s + series_date_index[idx]\n",
    "    \n",
    "print(\"s = \"+str(s))          "
   ]
  },
  {
   "cell_type": "markdown",
   "metadata": {},
   "source": [
    "4) Average For each calendar month"
   ]
  },
  {
   "cell_type": "code",
   "execution_count": 28,
   "metadata": {},
   "outputs": [
    {
     "data": {
      "text/plain": [
       "2015-01-31    43.227273\n",
       "2015-02-28    50.100000\n",
       "2015-03-31    47.954545\n",
       "2015-04-30    47.227273\n",
       "2015-05-31    47.761905\n",
       "2015-06-30    57.181818\n",
       "2015-07-31    60.478261\n",
       "2015-08-31    49.714286\n",
       "2015-09-30    64.863636\n",
       "2015-10-31    60.545455\n",
       "2015-11-30    66.285714\n",
       "2015-12-31    42.695652\n",
       "Freq: M, dtype: float64"
      ]
     },
     "execution_count": 28,
     "metadata": {},
     "output_type": "execute_result"
    }
   ],
   "source": [
    "series_date_index.groupby(pd.Grouper(freq='M')).mean()"
   ]
  },
  {
   "cell_type": "markdown",
   "metadata": {},
   "source": [
    "5) For each group of four consecutive calendar months in s, find the date on which the highest value occurred."
   ]
  },
  {
   "cell_type": "code",
   "execution_count": 126,
   "metadata": {},
   "outputs": [
    {
     "name": "stdout",
     "output_type": "stream",
     "text": [
      "The highest value in each group of for consecutive calendar months\n",
      "------------------------------------------------------------------\n",
      "2015-05-01    97.0\n",
      "2015-09-01    99.0\n",
      "2016-01-01    99.0\n",
      "dtype: float64\n",
      "The date on which the highest value occurred:\n",
      "---------------------------------------------\n",
      "97.0\n",
      "2015-03-11 00:00:00 , 97\n",
      "2015-11-26 00:00:00 , 97\n",
      "99.0\n",
      "2015-07-01 00:00:00 , 99\n",
      "2015-11-24 00:00:00 , 99\n",
      "99.0\n",
      "2015-07-01 00:00:00 , 99\n",
      "2015-11-24 00:00:00 , 99\n"
     ]
    }
   ],
   "source": [
    "df = series_date_index.groupby(pd.Grouper(freq='4MS',label='right')).max()[:3]\n",
    "\n",
    "print(\"The highest value in each group of for consecutive calendar months\")\n",
    "print('-'*66)\n",
    "print(df)\n",
    "print(\"The date on which the highest value occurred:\")\n",
    "print('-'*45)\n",
    "for idx, val in enumerate(df):\n",
    "    print(val)\n",
    "    for idx1 , val1 in enumerate(series_date_index):\n",
    "        if(val == val1):\n",
    "            print(str(series_date_index.index[idx1])+\" , \"+str(series_date_index[idx1]))\n",
    "            "
   ]
  },
  {
   "cell_type": "markdown",
   "metadata": {},
   "source": [
    "**Problem Statement 2:**\n",
    "\n",
    "Read the dataset from the below link\n",
    "\n",
    "https://raw.githubusercontent.com/guipsamora/pandas_exercises/master/06_Stats/US_Baby_Names/US_Baby_Names_right.csv\n",
    "\n",
    "**Questions:**\n",
    "\n",
    "1) Delete unnamed columns"
   ]
  },
  {
   "cell_type": "code",
   "execution_count": 2,
   "metadata": {},
   "outputs": [
    {
     "name": "stdout",
     "output_type": "stream",
     "text": [
      "Before removing the unnamed column \n",
      " ---------------------------------\n",
      "   Unnamed: 0     Id     Name  Year Gender State  Count\n",
      "0       11349  11350     Emma  2004      F    AK     62\n",
      "1       11350  11351  Madison  2004      F    AK     48\n",
      "2       11351  11352   Hannah  2004      F    AK     46\n",
      "3       11352  11353    Grace  2004      F    AK     44\n",
      "4       11353  11354    Emily  2004      F    AK     41\n",
      "After removing the unnamed column \n",
      " --------------------------------\n",
      "      Id     Name  Year Gender State  Count\n",
      "0  11350     Emma  2004      F    AK     62\n",
      "1  11351  Madison  2004      F    AK     48\n",
      "2  11352   Hannah  2004      F    AK     46\n",
      "3  11353    Grace  2004      F    AK     44\n",
      "4  11354    Emily  2004      F    AK     41\n"
     ]
    }
   ],
   "source": [
    "import pandas as pd\n",
    "url = \"https://raw.githubusercontent.com/guipsamora/pandas_exercises/master/06_Stats/US_Baby_Names/US_Baby_Names_right.csv\"\n",
    "df = pd.read_csv(url)\n",
    "print(\"Before removing the unnamed column \\n\",'-'*33)\n",
    "print(df.head())\n",
    "df1 = df.loc[:, ~df.columns.str.contains('^Unnamed')]\n",
    "print(\"After removing the unnamed column \\n\",'-'*32)\n",
    "print(df1.head())"
   ]
  },
  {
   "cell_type": "markdown",
   "metadata": {},
   "source": [
    "2) Show the distribution of male and female"
   ]
  },
  {
   "cell_type": "code",
   "execution_count": 76,
   "metadata": {},
   "outputs": [
    {
     "name": "stdout",
     "output_type": "stream",
     "text": [
      "F    558846\n",
      "M    457549\n",
      "Name: Gender, dtype: int64\n"
     ]
    },
    {
     "data": {
      "text/plain": [
       "<matplotlib.axes._subplots.AxesSubplot at 0x781d670>"
      ]
     },
     "execution_count": 76,
     "metadata": {},
     "output_type": "execute_result"
    },
    {
     "data": {
      "image/png": "[encoded data removed]",
      "text/plain": [
       "<Figure size 432x288 with 1 Axes>"
      ]
     },
     "metadata": {
      "needs_background": "light"
     },
     "output_type": "display_data"
    }
   ],
   "source": [
    "import matplotlib.pyplot as plt \n",
    "\n",
    "%matplotlib inline \n",
    "print(df['Gender'].value_counts())\n",
    "df['Gender'].value_counts().plot(kind='bar')"
   ]
  },
  {
   "cell_type": "markdown",
   "metadata": {},
   "source": [
    "3) Show the top 5 most preferred names"
   ]
  },
  {
   "cell_type": "code",
   "execution_count": 118,
   "metadata": {},
   "outputs": [
    {
     "name": "stdout",
     "output_type": "stream",
     "text": [
      "Riley     1112\n",
      "Avery     1080\n",
      "Jordan    1073\n",
      "Peyton    1064\n",
      "Hayden    1049\n",
      "Name: Name, dtype: int64\n"
     ]
    }
   ],
   "source": [
    "print(df['Name'].value_counts().head(5))"
   ]
  },
  {
   "cell_type": "markdown",
   "metadata": {},
   "source": [
    "4) what is the median name occurrence in the dataset"
   ]
  },
  {
   "cell_type": "code",
   "execution_count": 3,
   "metadata": {},
   "outputs": [
    {
     "name": "stdout",
     "output_type": "stream",
     "text": [
      "8.0\n"
     ]
    }
   ],
   "source": [
    "a = df['Name'].value_counts().median()\n",
    "print(a)"
   ]
  },
  {
   "cell_type": "markdown",
   "metadata": {},
   "source": [
    "5) Distribution of male and female born count by states"
   ]
  },
  {
   "cell_type": "code",
   "execution_count": 116,
   "metadata": {},
   "outputs": [
    {
     "data": {
      "text/plain": [
       "<matplotlib.axes._subplots.AxesSubplot at 0x81f08f0>"
      ]
     },
     "execution_count": 116,
     "metadata": {},
     "output_type": "execute_result"
    },
    {
     "data": {
      "image/png": "[encoded data removed]",
      "text/plain": [
       "<Figure size 1440x720 with 1 Axes>"
      ]
     },
     "metadata": {
      "needs_background": "light"
     },
     "output_type": "display_data"
    }
   ],
   "source": [
    "df.groupby(['State'])['Gender'].value_counts().plot(figsize=(20,10),kind='bar')"
   ]
  }
 ],
 "metadata": {
  "kernelspec": {
   "display_name": "Python 3",
   "language": "python",
   "name": "python3"
  },
  "language_info": {
   "codemirror_mode": {
    "name": "ipython",
    "version": 3
   },
   "file_extension": ".py",
   "mimetype": "text/x-python",
   "name": "python",
   "nbconvert_exporter": "python",
   "pygments_lexer": "ipython3",
   "version": "3.7.1"
  }
 },
 "nbformat": 4,
 "nbformat_minor": 2
}
